{
 "cells": [
  {
   "cell_type": "code",
   "execution_count": 1,
   "id": "0466860e",
   "metadata": {},
   "outputs": [],
   "source": [
    "import numpy as np\n",
    "import networkx as nx\n",
    "import networkx.algorithms.community as comm"
   ]
  },
  {
   "cell_type": "code",
   "execution_count": 2,
   "id": "a5b14b5b",
   "metadata": {},
   "outputs": [],
   "source": [
    "def find_community(pop_dict, G, G_undirected):\n",
    "\n",
    "  #Creating initial community\n",
    "    c = []\n",
    "    n = max(pop_dict, key=pop_dict.get)\n",
    "#     print('Community centre:',n)\n",
    "    c.append(n)\n",
    "    for node in list(G_undirected.neighbors(n)):\n",
    "        if node not in [node for community in all_communities for node in community]: ###########\n",
    "            temp_set = set(list(G_undirected.neighbors(n)))\n",
    "            temp_set.add(n)\n",
    "            num = len(set(G_undirected.neighbors(node)).intersection(temp_set))\n",
    "            den = len(list(G_undirected.neighbors(node)))\n",
    "            b = (num+1)/(den+1)\n",
    "            if b > 0.5:\n",
    "                c.append(node)\n",
    "    for x in c:\n",
    "        if x in list(pop_dict.keys()):\n",
    "            pop_dict.pop(x)\n",
    "\n",
    "    return c,pop_dict\n",
    "\n",
    "def expand_community(pop_dict, G, G_undirected,c):\n",
    "    \n",
    "    #Expanding the initial community\n",
    "    N = []\n",
    "    for node in c:\n",
    "        for n in G_undirected.neighbors(node):\n",
    "            if n not in c:\n",
    "                N.append(n)\n",
    "    N = list(set(N))\n",
    "        \n",
    "    for node in N:\n",
    "        if node not in [val for i in all_communities for val in i]:\n",
    "            num = len(set(list(G_undirected.neighbors(node))).intersection(set(c)))+1\n",
    "            den = len(list(G_undirected.neighbors(node)))+1\n",
    "            b = num/den \n",
    "            if b > 0.55:\n",
    "                all_communities[-1].append(node)\n",
    "                \n",
    "            elif b >= 0.4:\n",
    "                all_communities[-1].append(node)\n",
    "                c = all_communities[-1]\n",
    "                communities = [set(i) for i in all_communities]\n",
    "                communities.append(set(pop_dict.keys())-(set(c)))\n",
    "                if comm.modularity(G,communities) < mod_init:\n",
    "                    all_communities[-1].remove(node)\n",
    "\n",
    "    for x in [val for i in all_communities for val in i]:\n",
    "        if x in list(pop_dict.keys()):\n",
    "            pop_dict.pop(x)\n",
    "\n",
    "    return pop_dict"
   ]
  },
  {
   "cell_type": "code",
   "execution_count": 3,
   "id": "37c93afc",
   "metadata": {},
   "outputs": [],
   "source": [
    "def node_removal(i,j,all_communities):\n",
    "\n",
    "    out_deg = list(G.neighbors(j))\n",
    "    in_deg = list(set(G_undirected.neighbors(j))-set(G.neighbors(j)))\n",
    "    n_out_comm = len(set(out_deg).intersection(set(i)))\n",
    "    n_in_comm = len(set(in_deg).intersection(set(i)))\n",
    "    n_out = len(out_deg)\n",
    "    n_in = len(in_deg)\n",
    "    if (n_out_comm==(n_in-n_in_comm)) and (n_in_comm==(n_out-n_out_comm)):\n",
    "        return j\n",
    "    return 'NAN'"
   ]
  },
  {
   "cell_type": "code",
   "execution_count": 4,
   "id": "80b8b25e",
   "metadata": {},
   "outputs": [
    {
     "name": "stdout",
     "output_type": "stream",
     "text": [
      "\n",
      "Final communities: [[34, 9, 15, 16, 19, 21, 23, 24, 27, 28, 29, 30, 31, 32, 33, 25, 26], [1, 2, 3, 4, 5, 6, 7, 8, 11, 12, 13, 14, 18, 20, 22, 17], [10]]\n"
     ]
    }
   ],
   "source": [
    "G_undirected = nx.read_gml('karate.gml',label='id')\n",
    "\n",
    "Data = open('karate.csv', \"r\")\n",
    "next(Data, None)  # skip the first line in the input file\n",
    "Graphtype = nx.DiGraph()\n",
    "\n",
    "G = nx.parse_edgelist(Data, delimiter=',', create_using=Graphtype,nodetype=int)\n",
    "\n",
    "\n",
    "attributes = {}\n",
    "pop_dict = dict(G_undirected.degree())\n",
    "all_communities=[]\n",
    "na_community = []\n",
    "\n",
    "while len(pop_dict)>0:\n",
    "    \n",
    "    c,pop_dict = find_community(pop_dict,G,G_undirected)\n",
    "    all_communities.append(c)\n",
    "    communities = [set(i) for i in all_communities]\n",
    "    communities.append(set(pop_dict.keys())-(set(c)))\n",
    "    mod_init = comm.modularity(G,communities)\n",
    "    pop_dict = expand_community(pop_dict,G,G_undirected,c)\n",
    "    \n",
    "for idx,community in enumerate(all_communities):\n",
    "    for node in community:\n",
    "#         print(idx)\n",
    "        attributes[node] = idx + 1\n",
    "\n",
    "nx.set_node_attributes(G, attributes, name=\"comm\")  \n",
    "for i in range(len(all_communities)):\n",
    "    for j in all_communities[i]:\n",
    "        val = node_removal(all_communities[i],j,all_communities)\n",
    "        if val==j:\n",
    "            attributes[j] = 'NA'\n",
    "            all_communities[i].remove(j)\n",
    "            na_community.append(j)\n",
    "\n",
    "all_communities.append(na_community)\n",
    "nx.set_node_attributes(G, attributes, name=\"comm\")    \n",
    "\n",
    "print('\\nFinal communities:',all_communities)"
   ]
  },
  {
   "cell_type": "code",
   "execution_count": null,
   "id": "2a59eb74",
   "metadata": {},
   "outputs": [],
   "source": []
  }
 ],
 "metadata": {
  "kernelspec": {
   "display_name": "Python 3 (ipykernel)",
   "language": "python",
   "name": "python3"
  },
  "language_info": {
   "codemirror_mode": {
    "name": "ipython",
    "version": 3
   },
   "file_extension": ".py",
   "mimetype": "text/x-python",
   "name": "python",
   "nbconvert_exporter": "python",
   "pygments_lexer": "ipython3",
   "version": "3.9.12"
  }
 },
 "nbformat": 4,
 "nbformat_minor": 5
}
